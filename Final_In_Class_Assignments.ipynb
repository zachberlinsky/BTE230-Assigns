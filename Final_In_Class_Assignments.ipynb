{
  "cells": [
    {
      "cell_type": "markdown",
      "metadata": {
        "id": "view-in-github",
        "colab_type": "text"
      },
      "source": [
        "<a href=\"https://colab.research.google.com/github/zachberlinsky/BTE230-Assigns/blob/main/Final_In_Class_Assignments.ipynb\" target=\"_parent\"><img src=\"https://colab.research.google.com/assets/colab-badge.svg\" alt=\"Open In Colab\"/></a>"
      ]
    },
    {
      "cell_type": "code",
      "execution_count": null,
      "metadata": {
        "colab": {
          "base_uri": "https://localhost:8080/"
        },
        "id": "7Gx37hqpz_3v",
        "outputId": "4dd3cbcb-3bea-4e76-efdc-97fcd96d8c86"
      },
      "outputs": [
        {
          "output_type": "stream",
          "name": "stdout",
          "text": [
            "Do you want to play a game?: yes\n",
            "Enter Player One Move: rock\n",
            "Enter Player Two Move: paper\n",
            "P2 Wins\n",
            "Do you want to play another game?: yes\n",
            "Enter Player One Move: rock\n",
            "Enter Player Two Move: rock\n",
            "It's a Draw\n",
            "Do you want to play another game?: no\n",
            "Have a Nice Day!\n"
          ]
        }
      ],
      "source": [
        "play = input('Do you want to play a game?: ')\n",
        "\n",
        "\n",
        "while play == 'yes':\n",
        "  P1 = input('Enter Player One Move: ')\n",
        "  P2 = input('Enter Player Two Move: ')\n",
        "\n",
        "  if (P1) == 'rock' and (P2) == 'scissors':\n",
        "    print(\"P1 Wins\")\n",
        "\n",
        "  elif (P1) == 'rock' and (P2) == 'paper':\n",
        "    print(\"P2 Wins\")\n",
        "\n",
        "  elif (P1) == 'paper' and (P2) == 'scissors':\n",
        "    print(\"P2 Wins\")\n",
        "\n",
        "  elif (P1) == 'paper' and (P2) == 'rock':\n",
        "    print(\"P1 Wins\")\n",
        "\n",
        "  elif (P1) == 'scissors' and (P2) == 'rock':\n",
        "    print(\"P2 Wins\")\n",
        "\n",
        "  elif (P1) == 'scissors' and (P2) == 'Paper':\n",
        "    print(\"P1 Wins\")\n",
        "\n",
        "  elif (P1) == (P2):\n",
        "    print(\"It's a Draw\")\n",
        "  play = input('Do you want to play another game?: ')\n",
        "  if play == 'no':\n",
        "    print('Have a Nice Day!')\n",
        "\n",
        "\n",
        "\n",
        "\n"
      ]
    },
    {
      "cell_type": "code",
      "source": [
        "# Calculate surface area cylinder\n",
        "h=10 # Height\n",
        "r=3 # Radius\n",
        "pi=3.14 # Pi\n",
        "(2*pi*r**2)+(2*pi*r*h)"
      ],
      "metadata": {
        "colab": {
          "base_uri": "https://localhost:8080/"
        },
        "id": "R4qz-1b9bUUS",
        "outputId": "e6b5e9b1-b5e4-4829-fccf-36b136f9b461"
      },
      "execution_count": 1,
      "outputs": [
        {
          "output_type": "execute_result",
          "data": {
            "text/plain": [
              "244.92000000000002"
            ]
          },
          "metadata": {},
          "execution_count": 1
        }
      ]
    },
    {
      "cell_type": "code",
      "source": [
        "from os import symlink\n",
        "from re import sub\n",
        "n1 = float(input('Enter Number One: '))\n",
        "symbol = input('Enter Symbol: ')\n",
        "n3 = float(input('Enter Number Two: '))\n",
        "\n",
        "if symbol == '+':\n",
        "  print(n1 + n3)\n",
        "elif symbol == '-':\n",
        "  print(n1 - n3)\n",
        "elif symbol == '*':\n",
        "  print(n1 * n3)\n",
        "elif symbol == '/':\n",
        "  print(n1 / n3)\n",
        "elif symbol == '**':\n",
        "  print(n1 ** n3)\n"
      ],
      "metadata": {
        "colab": {
          "base_uri": "https://localhost:8080/"
        },
        "id": "sLOv2Iukb_vQ",
        "outputId": "f5260eec-efbe-42c6-abb1-1ba51d17a54e"
      },
      "execution_count": 5,
      "outputs": [
        {
          "output_type": "stream",
          "name": "stdout",
          "text": [
            "Enter Number One: 7\n",
            "Enter Symbol: *\n",
            "Enter Number Two: 6\n",
            "42.0\n"
          ]
        }
      ]
    },
    {
      "cell_type": "code",
      "source": [
        "flat_rate=5\n",
        "hourly_rate = 2.5\n",
        "i=1\n",
        "while i<9:\n",
        "  print(i,5+2.5*i)\n",
        "  i=i+1\n",
        "\n"
      ],
      "metadata": {
        "colab": {
          "base_uri": "https://localhost:8080/"
        },
        "id": "Ov5Gc0RecFxH",
        "outputId": "2cb66009-13b8-4dc5-a44f-c394565fa086"
      },
      "execution_count": 7,
      "outputs": [
        {
          "output_type": "stream",
          "name": "stdout",
          "text": [
            "1 7.5\n",
            "2 10.0\n",
            "3 12.5\n",
            "4 15.0\n",
            "5 17.5\n",
            "6 20.0\n",
            "7 22.5\n",
            "8 25.0\n"
          ]
        }
      ]
    },
    {
      "cell_type": "code",
      "source": [
        "ticketPrice = 10\n",
        "fixedCost = 200\n",
        "fixedAtendees = 20\n",
        "\n",
        "for ad in range(0, 201, 25):\n",
        "  additionalAtendees = round(2 * ad ** 0.5)\n",
        "  profit = (fixedAtendees + additionalAtendees) * ticketPrice - ad - fixedCost\n",
        "  print(ad, profit)\n",
        "\n",
        "print('...')\n",
        "\n",
        "ad = 0\n",
        "while ad < 201:\n",
        "  additionalAtendees = round(2 * ad ** 0.5)\n",
        "  profit = (fixedAtendees + additionalAtendees) * ticketPrice - ad - fixedCost\n",
        "  print(ad, profit)\n",
        "  ad = ad + 25\n",
        "\n",
        "\n"
      ],
      "metadata": {
        "colab": {
          "base_uri": "https://localhost:8080/"
        },
        "id": "2yix9F7UOJkf",
        "outputId": "265f08fe-daa2-4a6d-95be-2b0d7c961f0e"
      },
      "execution_count": null,
      "outputs": [
        {
          "output_type": "stream",
          "name": "stdout",
          "text": [
            "0 0\n",
            "25 75\n",
            "50 90\n",
            "75 95\n",
            "100 100\n",
            "125 95\n",
            "150 90\n",
            "175 85\n",
            "200 80\n",
            "...\n",
            "0 0\n",
            "25 75\n",
            "50 90\n",
            "75 95\n",
            "100 100\n",
            "125 95\n",
            "150 90\n",
            "175 85\n",
            "200 80\n"
          ]
        }
      ]
    },
    {
      "cell_type": "code",
      "source": [
        "from os import symlink\n",
        "from re import sub\n",
        "n1 = float(input('Enter Number One: '))\n",
        "symbol = input('Enter Symbol: ')\n",
        "n3 = float(input('Enter Number Two: '))\n",
        "\n",
        "if symbol == '+':\n",
        "  print(n1 + n3)\n",
        "elif symbol == '-':\n",
        "  print(n1 - n3)\n",
        "elif symbol == '*':\n",
        "  print(n1 * n3)\n",
        "elif symbol == '/':\n",
        "  print(n1 / n3)\n",
        "elif symbol == '**':\n",
        "  print(n1 ** n3)\n",
        "\n"
      ],
      "metadata": {
        "colab": {
          "base_uri": "https://localhost:8080/"
        },
        "id": "JwYuzDvbOYWd",
        "outputId": "a6ddd395-9088-4022-82fc-1a8e2db40a82"
      },
      "execution_count": null,
      "outputs": [
        {
          "output_type": "stream",
          "name": "stdout",
          "text": [
            "Enter Number One: 6\n",
            "Enter Symbol: *\n",
            "Enter Number Two: 4\n",
            "24.0\n"
          ]
        }
      ]
    },
    {
      "cell_type": "code",
      "source": [
        "amount = float(input('Enter investment amount (($)): '))\n",
        "customer_type = input('Enter type of customer (n->new, e->existing): ')\n",
        "\n",
        "if amount <= 1000:\n",
        "  ir = 0.03\n",
        "  ret = (1+ir) * amount\n",
        "elif amount <= 10000 and customer_type == 'e':\n",
        "  ir = 0.0325\n",
        "  ret = (1 + ir) * amount\n",
        "elif amount > 10000 and customer_type == 'e':\n",
        "  ir = 0.035\n",
        "  ret = (1 + ir) * amount\n",
        "else:\n",
        "  ir = 0.04\n",
        "  ret = (1 + ir) * amount\n",
        "\n",
        "print(f'Annualreturn afyer 1 year: $(ret): ', round(ret, 2))\n"
      ],
      "metadata": {
        "colab": {
          "base_uri": "https://localhost:8080/"
        },
        "id": "KFAReWr4ba-F",
        "outputId": "bdded085-b1c5-4831-c9a1-ee3edce185b7"
      },
      "execution_count": 4,
      "outputs": [
        {
          "output_type": "stream",
          "name": "stdout",
          "text": [
            "Enter investment amount (($)): 540000\n",
            "Enter type of customer (n->new, e->existing): n\n",
            "Annualreturn afyer 1 year: $(ret):  561600.0\n"
          ]
        }
      ]
    },
    {
      "cell_type": "code",
      "source": [
        "credits = float(input('Number of credits: '))\n",
        "if credits >= 12:\n",
        "  tuition = 20000\n",
        "if credits < 12:\n",
        "  tuition = 1200 + (1700 * credits)\n",
        "\n",
        "print(\"Tution for the semester: $\", tuition)"
      ],
      "metadata": {
        "colab": {
          "base_uri": "https://localhost:8080/"
        },
        "id": "cBH-44ZXcQnu",
        "outputId": "830479f9-5609-4265-c04b-febd3502f199"
      },
      "execution_count": 8,
      "outputs": [
        {
          "output_type": "stream",
          "name": "stdout",
          "text": [
            "Number of credits: 20\n",
            "Tution for the semester: $ 20000\n"
          ]
        }
      ]
    },
    {
      "cell_type": "code",
      "source": [
        "L = []\n",
        "\n",
        "item = int(input('Give a value: '))\n",
        "\n",
        "while item != 0:\n",
        "  L.append(item)\n",
        "  item = int(input('Give a value: '))\n",
        "print(L)\n"
      ],
      "metadata": {
        "colab": {
          "base_uri": "https://localhost:8080/"
        },
        "id": "MdyrWehrJHFL",
        "outputId": "65c0db1c-995f-4321-e3c5-cc800eeb8b99"
      },
      "execution_count": null,
      "outputs": [
        {
          "output_type": "stream",
          "name": "stdout",
          "text": [
            "Give a value: 1\n",
            "Give a value: 2\n",
            "Give a value: 5\n",
            "Give a value: 7\n",
            "Give a value: 0\n",
            "[1, 2, 5, 7]\n"
          ]
        }
      ]
    },
    {
      "cell_type": "code",
      "source": [
        "L1 = [1,2,3,4]\n",
        "L2 = [1,2,5,6]\n",
        "for item in L1[:]:\n",
        "  if item in L2:\n",
        "    L1.remove(item)\n",
        "\n",
        "print(L1)"
      ],
      "metadata": {
        "colab": {
          "base_uri": "https://localhost:8080/"
        },
        "id": "Y3O2b9lONrI0",
        "outputId": "829f7db2-17fc-4b77-a14c-67621d00554c"
      },
      "execution_count": null,
      "outputs": [
        {
          "output_type": "stream",
          "name": "stdout",
          "text": [
            "[3, 4]\n"
          ]
        }
      ]
    },
    {
      "cell_type": "code",
      "source": [
        "months = {}\n",
        "\n",
        "names = {\"Jan\", \"Feb\", \"Mar\", \"Apr\", \"May\", \"Jun\", \"Jul\", \"Aug\", \"Sep\", \"Oct\", \"Nov\", \"Dec\"}\n",
        "numbers = {1,2,3,4,5,6,7,8,9,10,11,12}\n",
        "\n",
        "db = {\n",
        "    'Months of the Year': {\n",
        "        '1': 'Jan',\n",
        "        '2': 'Feb',\n",
        "        '3': 'Mar',\n",
        "        '4': 'Apr',\n",
        "        '5': 'May',\n",
        "        '6': 'Jun',\n",
        "        '7': 'Jul',\n",
        "        '8': 'Aug',\n",
        "        '9': 'Sep',\n",
        "        '10': 'Oct',\n",
        "        '11': 'Nov',\n",
        "        '12': 'Dec',\n",
        "    }\n",
        "}\n",
        "\n",
        "print(db)"
      ],
      "metadata": {
        "colab": {
          "base_uri": "https://localhost:8080/"
        },
        "id": "7Nno7uhk6JzH",
        "outputId": "2f273bc4-e6f0-4ba5-b793-8d972315878f"
      },
      "execution_count": null,
      "outputs": [
        {
          "output_type": "stream",
          "name": "stdout",
          "text": [
            "{'Months of the Year': {'1': 'Jan', '2': 'Feb', '3': 'Mar', '4': 'Apr', '5': 'May', '6': 'Jun', '7': 'Jul', '8': 'Aug', '9': 'Sep', '10': 'Oct', '11': 'Nov', '12': 'Dec'}}\n"
          ]
        }
      ]
    },
    {
      "cell_type": "code",
      "source": [
        "total_cost=int(input('Enter total cost: '))\n",
        "portion_down_payment = 0.25*total_cost\n",
        "current_savings=int(input('Enter current savings: '))\n",
        "r=.04\n",
        "annual_return = current_savings * (r/12)\n",
        "annual_salary=int(input('Enter current salary: '))\n",
        "portion_saved=float(input('Enter portion of money to save, as a decimal: '))\n",
        "savings_increase = current_savings + annual_return + (annual_salary/12)\n",
        "\n",
        "months = (total_cost/12) - (current_savings/12) - ((annual_salary*portion_saved+(savings_increase))-portion_down_payment/12)\n",
        "\n",
        "print('Number of months:', months)"
      ],
      "metadata": {
        "colab": {
          "base_uri": "https://localhost:8080/"
        },
        "id": "25G1gxoLOZI2",
        "outputId": "1d71a58d-5959-4c26-917a-7081a301dfc3"
      },
      "execution_count": null,
      "outputs": [
        {
          "output_type": "stream",
          "name": "stdout",
          "text": [
            "Enter total cost: 675000\n",
            "Enter current savings: 200000\n",
            "Enter current salary: 196000\n",
            "Enter portion of money to save, as a decimal: .08\n",
            "Number of months: -179034.1666666667\n"
          ]
        }
      ]
    },
    {
      "cell_type": "code",
      "source": [
        "def calcFee(hours):\n",
        "  fee = 5 + hours * 2.5\n",
        "  return fee\n",
        "\n",
        "h = int(input('Enter hours parked: '))\n",
        "fee = calcFee(h)\n",
        "\n",
        "print('Parking fee: $', (fee))"
      ],
      "metadata": {
        "colab": {
          "base_uri": "https://localhost:8080/"
        },
        "id": "R86yl5rn_0kP",
        "outputId": "0ddac04e-52ed-4731-d765-018286ad5922"
      },
      "execution_count": null,
      "outputs": [
        {
          "output_type": "stream",
          "name": "stdout",
          "text": [
            "Enter number of hours: 6\n",
            "Parking fee: $ 20.0\n"
          ]
        }
      ]
    },
    {
      "cell_type": "code",
      "source": [],
      "metadata": {
        "id": "6ICtHKJQbTcF"
      },
      "execution_count": null,
      "outputs": []
    },
    {
      "cell_type": "code",
      "source": [
        "def calcFee(hours, decimals=2):\n",
        "  fee = 5 + hours * 2.5\n",
        "  fee = round(fee, decimals)\n",
        "  return fee\n",
        "\n",
        "def displayFee(fee):\n",
        "  print('Parking fee: $', (fee))\n",
        "\n",
        "h = int(input('Enter hours parked: '))\n",
        "fee = calcFee(h)\n",
        "displayFee(fee)\n",
        "\n"
      ],
      "metadata": {
        "colab": {
          "base_uri": "https://localhost:8080/"
        },
        "id": "cahZ_hZPFB8E",
        "outputId": "f84a8ab7-939e-47bc-8ce2-491d6bdf0cf0"
      },
      "execution_count": null,
      "outputs": [
        {
          "output_type": "stream",
          "name": "stdout",
          "text": [
            "Enter hours parked: 6\n",
            "Parking fee: $ 20.0\n"
          ]
        }
      ]
    },
    {
      "cell_type": "code",
      "source": [
        "def reverse(s):\n",
        "  if len(s) == 1:\n",
        "    return s\n",
        "  else:\n",
        "    return s[-1] + reverse(s[1:-1])+s[0]\n",
        "    return reverse(s[1:]) + s[0]\n",
        "    return [-1] + reverse(s[:-1])\n",
        "\n",
        "print(reverse('hello'))\n",
        "\n"
      ],
      "metadata": {
        "colab": {
          "base_uri": "https://localhost:8080/"
        },
        "id": "6lUJ7rSxL22K",
        "outputId": "d7208b0a-9d3f-4009-e6d7-578f811cffbb"
      },
      "execution_count": null,
      "outputs": [
        {
          "output_type": "stream",
          "name": "stdout",
          "text": [
            "olleh\n"
          ]
        }
      ]
    },
    {
      "cell_type": "code",
      "source": [
        "def wAvg(L, w):\n",
        "  try:\n",
        "    res = []\n",
        "    for i in range(len(L)):\n",
        "      res.append(L[i] * w[i])\n",
        "    return sum(res) / sum(w)\n",
        "  except ZeroDivisionError:\n",
        "    print('Divided by zero')\n",
        "    return []\n",
        "  except IndexError:\n",
        "    print('Non-numerical object found')\n",
        "    return []\n",
        "  except Exception as e:\n",
        "    print(f'Unknown error: {e}')\n",
        "    return float('nan')\n",
        "wAvg([1, 2, 3], [.1,.3,.4])\n",
        "\n"
      ],
      "metadata": {
        "id": "mZTcoDYVj9W2",
        "colab": {
          "base_uri": "https://localhost:8080/"
        },
        "outputId": "fc63ce92-d4b1-4d54-8b95-9b4049197a66"
      },
      "execution_count": null,
      "outputs": [
        {
          "output_type": "execute_result",
          "data": {
            "text/plain": [
              "2.375"
            ]
          },
          "metadata": {},
          "execution_count": 3
        }
      ]
    },
    {
      "cell_type": "code",
      "source": [
        "class Student:\n",
        "  def __init__(self, name, number):\n",
        "    self.name = name\n",
        "    self.number = number\n",
        "\n",
        "  def getName(self):\n",
        "    return self.name\n",
        "\n",
        "  def getNumber(self):\n",
        "    return self.number\n",
        "\n",
        "  def __str__(self):\n",
        "    return f'{self.name} {self.number}'\n",
        "\n",
        "  def __repr__(self):\n",
        "    return f'Name: {self.name}'\n",
        "\n",
        "\n"
      ],
      "metadata": {
        "id": "Y1D2HcO0ZAtJ"
      },
      "execution_count": null,
      "outputs": []
    },
    {
      "cell_type": "code",
      "source": [
        "s1 = Student(\"James Bond\", \"007\")\n",
        "s2 = Student(\"Clark Kent\", \"333\")\n",
        "\n",
        "print(s1)"
      ],
      "metadata": {
        "colab": {
          "base_uri": "https://localhost:8080/"
        },
        "id": "ecaD9T2xaoPb",
        "outputId": "cf19273a-0776-4ac4-88ce-41eaa19299fc"
      },
      "execution_count": null,
      "outputs": [
        {
          "output_type": "stream",
          "name": "stdout",
          "text": [
            "James Bond 007\n"
          ]
        }
      ]
    },
    {
      "cell_type": "code",
      "source": [
        "def __str__(self):\n",
        "  return f'{self.name} {self.number}'"
      ],
      "metadata": {
        "id": "_09FosVWbz98"
      },
      "execution_count": null,
      "outputs": []
    },
    {
      "cell_type": "code",
      "source": [
        "s2.getName()"
      ],
      "metadata": {
        "colab": {
          "base_uri": "https://localhost:8080/",
          "height": 35
        },
        "id": "0bFT44XArFhj",
        "outputId": "fbc9652c-cf7b-401a-8d1e-316b1be17cd4"
      },
      "execution_count": null,
      "outputs": [
        {
          "output_type": "execute_result",
          "data": {
            "text/plain": [
              "'Clark Kent'"
            ],
            "application/vnd.google.colaboratory.intrinsic+json": {
              "type": "string"
            }
          },
          "metadata": {},
          "execution_count": 10
        }
      ]
    },
    {
      "cell_type": "code",
      "source": [
        "class Student:\n",
        "  def __init__(self, name, number):\n",
        "    self.name = name\n",
        "    self.number = number\n",
        "    self.courses = []\n",
        "\n",
        "  def enroll(self, newCourse):\n",
        "    if newCourse not in self.courses:\n",
        "      self.courses.append(newCourse)\n",
        "    else:\n",
        "      print('You Have Already Enrolled in {newCourse}')\n",
        "\n",
        "  def get_courses(self):\n",
        "    return self.courses\n",
        "\n"
      ],
      "metadata": {
        "id": "f0uOw7dLtYXZ"
      },
      "execution_count": null,
      "outputs": []
    },
    {
      "cell_type": "code",
      "source": [
        "s = Student('Bob', '12345')"
      ],
      "metadata": {
        "id": "cPVk_p_exwrm"
      },
      "execution_count": null,
      "outputs": []
    },
    {
      "cell_type": "code",
      "source": [
        "s.enroll('ABC123')"
      ],
      "metadata": {
        "id": "mc55WsiAxsd7"
      },
      "execution_count": null,
      "outputs": []
    },
    {
      "cell_type": "code",
      "source": [
        "s.get_courses()"
      ],
      "metadata": {
        "id": "NWYCc5kQx461",
        "outputId": "d6b6a05a-05f2-4464-9224-6adbf5f78e1c",
        "colab": {
          "base_uri": "https://localhost:8080/"
        }
      },
      "execution_count": null,
      "outputs": [
        {
          "output_type": "execute_result",
          "data": {
            "text/plain": [
              "['ABC123']"
            ]
          },
          "metadata": {},
          "execution_count": 17
        }
      ]
    },
    {
      "cell_type": "code",
      "source": [
        "L = input('Enter Numbers:')\n",
        "w = input('Enter Corresponding Weights:')\n",
        "def wAvg(L, w):\n",
        "    try:\n",
        "        # Check if L and w are lists and have the same length\n",
        "        if not isinstance(L, list) or not isinstance(w, list) or len(L) != len(w):\n",
        "            raise TypeError(\"Inputs must be lists of the same length.\")\n",
        "\n",
        "        # Calculate the weighted average\n",
        "        weighted_sum = sum(l * weight for l, weight in zip(L, w))\n",
        "        total_weight = sum(w)\n",
        "\n",
        "        # Check for division by zero\n",
        "        if total_weight == 0:\n",
        "            raise ZeroDivisionError(\"Total weight is zero.\")\n",
        "\n",
        "        return weightedsum / totalweight\n",
        "\n",
        "    except ZeroDivisionError:\n",
        "        return []\n",
        "    except TypeError:\n",
        "        return []\n",
        "    except Exception:\n",
        "        return float('nan')\n"
      ],
      "metadata": {
        "id": "JvItR_6kbxcd"
      },
      "execution_count": null,
      "outputs": []
    },
    {
      "cell_type": "code",
      "source": [
        "\n"
      ],
      "metadata": {
        "id": "vXP4VWuMbymg"
      },
      "execution_count": null,
      "outputs": []
    }
  ],
  "metadata": {
    "colab": {
      "provenance": [],
      "authorship_tag": "ABX9TyPzLd+nB9ZG4xpeAWG6Zfsd",
      "include_colab_link": true
    },
    "kernelspec": {
      "display_name": "Python 3",
      "name": "python3"
    },
    "language_info": {
      "name": "python"
    }
  },
  "nbformat": 4,
  "nbformat_minor": 0
}