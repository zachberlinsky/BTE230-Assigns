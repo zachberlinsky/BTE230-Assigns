{
  "cells": [
    {
      "cell_type": "markdown",
      "metadata": {
        "id": "view-in-github",
        "colab_type": "text"
      },
      "source": [
        "<a href=\"https://colab.research.google.com/github/zachberlinsky/BTE230-Assigns/blob/main/Final_In_Class_Assignments.ipynb\" target=\"_parent\"><img src=\"https://colab.research.google.com/assets/colab-badge.svg\" alt=\"Open In Colab\"/></a>"
      ]
    },
    {
      "cell_type": "code",
      "execution_count": null,
      "metadata": {
        "colab": {
          "base_uri": "https://localhost:8080/"
        },
        "id": "7Gx37hqpz_3v",
        "outputId": "4dd3cbcb-3bea-4e76-efdc-97fcd96d8c86"
      },
      "outputs": [
        {
          "output_type": "stream",
          "name": "stdout",
          "text": [
            "Do you want to play a game?: yes\n",
            "Enter Player One Move: rock\n",
            "Enter Player Two Move: paper\n",
            "P2 Wins\n",
            "Do you want to play another game?: yes\n",
            "Enter Player One Move: rock\n",
            "Enter Player Two Move: rock\n",
            "It's a Draw\n",
            "Do you want to play another game?: no\n",
            "Have a Nice Day!\n"
          ]
        }
      ],
      "source": [
        "play = input('Do you want to play a game?: ')\n",
        "\n",
        "\n",
        "while play == 'yes':\n",
        "  P1 = input('Enter Player One Move: ')\n",
        "  P2 = input('Enter Player Two Move: ')\n",
        "\n",
        "  if (P1) == 'rock' and (P2) == 'scissors':\n",
        "    print(\"P1 Wins\")\n",
        "\n",
        "  elif (P1) == 'rock' and (P2) == 'paper':\n",
        "    print(\"P2 Wins\")\n",
        "\n",
        "  elif (P1) == 'paper' and (P2) == 'scissors':\n",
        "    print(\"P2 Wins\")\n",
        "\n",
        "  elif (P1) == 'paper' and (P2) == 'rock':\n",
        "    print(\"P1 Wins\")\n",
        "\n",
        "  elif (P1) == 'scissors' and (P2) == 'rock':\n",
        "    print(\"P2 Wins\")\n",
        "\n",
        "  elif (P1) == 'scissors' and (P2) == 'Paper':\n",
        "    print(\"P1 Wins\")\n",
        "\n",
        "  elif (P1) == (P2):\n",
        "    print(\"It's a Draw\")\n",
        "  play = input('Do you want to play another game?: ')\n",
        "  if play == 'no':\n",
        "    print('Have a Nice Day!')\n",
        "\n",
        "\n",
        "\n",
        "\n"
      ]
    },
    {
      "cell_type": "code",
      "source": [
        "ticketPrice = 10\n",
        "fixedCost = 200\n",
        "fixedAtendees = 20\n",
        "\n",
        "for ad in range(0, 201, 25):\n",
        "  additionalAtendees = round(2 * ad ** 0.5)\n",
        "  profit = (fixedAtendees + additionalAtendees) * ticketPrice - ad - fixedCost\n",
        "  print(ad, profit)\n",
        "\n",
        "print('...')\n",
        "\n",
        "ad = 0\n",
        "while ad < 201:\n",
        "  additionalAtendees = round(2 * ad ** 0.5)\n",
        "  profit = (fixedAtendees + additionalAtendees) * ticketPrice - ad - fixedCost\n",
        "  print(ad, profit)\n",
        "  ad = ad + 25\n",
        "\n",
        "\n"
      ],
      "metadata": {
        "colab": {
          "base_uri": "https://localhost:8080/"
        },
        "id": "2yix9F7UOJkf",
        "outputId": "265f08fe-daa2-4a6d-95be-2b0d7c961f0e"
      },
      "execution_count": null,
      "outputs": [
        {
          "output_type": "stream",
          "name": "stdout",
          "text": [
            "0 0\n",
            "25 75\n",
            "50 90\n",
            "75 95\n",
            "100 100\n",
            "125 95\n",
            "150 90\n",
            "175 85\n",
            "200 80\n",
            "...\n",
            "0 0\n",
            "25 75\n",
            "50 90\n",
            "75 95\n",
            "100 100\n",
            "125 95\n",
            "150 90\n",
            "175 85\n",
            "200 80\n"
          ]
        }
      ]
    },
    {
      "cell_type": "code",
      "source": [
        "from os import symlink\n",
        "from re import sub\n",
        "n1 = float(input('Enter Number One: '))\n",
        "symbol = input('Enter Symbol: ')\n",
        "n3 = float(input('Enter Number Two: '))\n",
        "\n",
        "if symbol == '+':\n",
        "  print(n1 + n3)\n",
        "elif symbol == '-':\n",
        "  print(n1 - n3)\n",
        "elif symbol == '*':\n",
        "  print(n1 * n3)\n",
        "elif symbol == '/':\n",
        "  print(n1 / n3)\n",
        "elif symbol == '**':\n",
        "  print(n1 ** n3)\n",
        "\n"
      ],
      "metadata": {
        "colab": {
          "base_uri": "https://localhost:8080/"
        },
        "id": "JwYuzDvbOYWd",
        "outputId": "a6ddd395-9088-4022-82fc-1a8e2db40a82"
      },
      "execution_count": null,
      "outputs": [
        {
          "output_type": "stream",
          "name": "stdout",
          "text": [
            "Enter Number One: 6\n",
            "Enter Symbol: *\n",
            "Enter Number Two: 4\n",
            "24.0\n"
          ]
        }
      ]
    },
    {
      "cell_type": "code",
      "source": [
        "L = []\n",
        "\n",
        "item = int(input('Give a value: '))\n",
        "\n",
        "while item != 0:\n",
        "  L.append(item)\n",
        "  item = int(input('Give a value: '))\n",
        "print(L)\n"
      ],
      "metadata": {
        "colab": {
          "base_uri": "https://localhost:8080/"
        },
        "id": "MdyrWehrJHFL",
        "outputId": "65c0db1c-995f-4321-e3c5-cc800eeb8b99"
      },
      "execution_count": null,
      "outputs": [
        {
          "output_type": "stream",
          "name": "stdout",
          "text": [
            "Give a value: 1\n",
            "Give a value: 2\n",
            "Give a value: 5\n",
            "Give a value: 7\n",
            "Give a value: 0\n",
            "[1, 2, 5, 7]\n"
          ]
        }
      ]
    },
    {
      "cell_type": "code",
      "source": [
        "L1 = [1,2,3,4]\n",
        "L2 = [1,2,5,6]\n",
        "for item in L1[:]:\n",
        "  if item in L2:\n",
        "    L1.remove(item)\n",
        "\n",
        "print(L1)"
      ],
      "metadata": {
        "colab": {
          "base_uri": "https://localhost:8080/"
        },
        "id": "Y3O2b9lONrI0",
        "outputId": "829f7db2-17fc-4b77-a14c-67621d00554c"
      },
      "execution_count": null,
      "outputs": [
        {
          "output_type": "stream",
          "name": "stdout",
          "text": [
            "[3, 4]\n"
          ]
        }
      ]
    },
    {
      "cell_type": "code",
      "source": [
        "months = {}\n",
        "\n",
        "names = {\"Jan\", \"Feb\", \"Mar\", \"Apr\", \"May\", \"Jun\", \"Jul\", \"Aug\", \"Sep\", \"Oct\", \"Nov\", \"Dec\"}\n",
        "numbers = {1,2,3,4,5,6,7,8,9,10,11,12}\n",
        "\n",
        "db = {\n",
        "    'Months of the Year': {\n",
        "        '1': 'Jan',\n",
        "        '2': 'Feb',\n",
        "        '3': 'Mar',\n",
        "        '4': 'Apr',\n",
        "        '5': 'May',\n",
        "        '6': 'Jun',\n",
        "        '7': 'Jul',\n",
        "        '8': 'Aug',\n",
        "        '9': 'Sep',\n",
        "        '10': 'Oct',\n",
        "        '11': 'Nov',\n",
        "        '12': 'Dec',\n",
        "    }\n",
        "}\n",
        "\n",
        "print(db)"
      ],
      "metadata": {
        "colab": {
          "base_uri": "https://localhost:8080/"
        },
        "id": "7Nno7uhk6JzH",
        "outputId": "2f273bc4-e6f0-4ba5-b793-8d972315878f"
      },
      "execution_count": null,
      "outputs": [
        {
          "output_type": "stream",
          "name": "stdout",
          "text": [
            "{'Months of the Year': {'1': 'Jan', '2': 'Feb', '3': 'Mar', '4': 'Apr', '5': 'May', '6': 'Jun', '7': 'Jul', '8': 'Aug', '9': 'Sep', '10': 'Oct', '11': 'Nov', '12': 'Dec'}}\n"
          ]
        }
      ]
    },
    {
      "cell_type": "code",
      "source": [
        "months = {}\n",
        "\n",
        "names = {\"Jan\", \"Feb\", \"Mar\", \"Apr\", \"May\", \"Jun\", \"Jul\", \"Aug\", \"Sep\", \"Oct\", \"Nov\", \"Dec\"}\n",
        "numbers = {1, 2, 3, 4, 5, 6, 7, 8, 9, 10, 11, 12}\n",
        "\n",
        "for idx in range(len(numbers)):\n",
        "  months[numbers[idx]] = names[idx]\n",
        "months"
      ],
      "metadata": {
        "colab": {
          "base_uri": "https://localhost:8080/",
          "height": 193
        },
        "id": "XkewA2S06jEh",
        "outputId": "25af5f85-4375-49f3-845e-7f664c6667d8"
      },
      "execution_count": null,
      "outputs": [
        {
          "output_type": "error",
          "ename": "TypeError",
          "evalue": "'set' object is not subscriptable",
          "traceback": [
            "\u001b[0;31m---------------------------------------------------------------------------\u001b[0m",
            "\u001b[0;31mTypeError\u001b[0m                                 Traceback (most recent call last)",
            "\u001b[0;32m<ipython-input-9-712512244c16>\u001b[0m in \u001b[0;36m<cell line: 6>\u001b[0;34m()\u001b[0m\n\u001b[1;32m      5\u001b[0m \u001b[0;34m\u001b[0m\u001b[0m\n\u001b[1;32m      6\u001b[0m \u001b[0;32mfor\u001b[0m \u001b[0midx\u001b[0m \u001b[0;32min\u001b[0m \u001b[0mrange\u001b[0m\u001b[0;34m(\u001b[0m\u001b[0mlen\u001b[0m\u001b[0;34m(\u001b[0m\u001b[0mnumbers\u001b[0m\u001b[0;34m)\u001b[0m\u001b[0;34m)\u001b[0m\u001b[0;34m:\u001b[0m\u001b[0;34m\u001b[0m\u001b[0;34m\u001b[0m\u001b[0m\n\u001b[0;32m----> 7\u001b[0;31m   \u001b[0mmonths\u001b[0m\u001b[0;34m[\u001b[0m\u001b[0mnumbers\u001b[0m\u001b[0;34m[\u001b[0m\u001b[0midx\u001b[0m\u001b[0;34m]\u001b[0m\u001b[0;34m]\u001b[0m \u001b[0;34m=\u001b[0m \u001b[0mnames\u001b[0m\u001b[0;34m[\u001b[0m\u001b[0midx\u001b[0m\u001b[0;34m]\u001b[0m\u001b[0;34m\u001b[0m\u001b[0;34m\u001b[0m\u001b[0m\n\u001b[0m\u001b[1;32m      8\u001b[0m \u001b[0mmonths\u001b[0m\u001b[0;34m\u001b[0m\u001b[0;34m\u001b[0m\u001b[0m\n",
            "\u001b[0;31mTypeError\u001b[0m: 'set' object is not subscriptable"
          ]
        }
      ]
    }
  ],
  "metadata": {
    "colab": {
      "provenance": [],
      "authorship_tag": "ABX9TyPayuFzzKecybVBbyfiEf/Z",
      "include_colab_link": true
    },
    "kernelspec": {
      "display_name": "Python 3",
      "name": "python3"
    },
    "language_info": {
      "name": "python"
    }
  },
  "nbformat": 4,
  "nbformat_minor": 0
}